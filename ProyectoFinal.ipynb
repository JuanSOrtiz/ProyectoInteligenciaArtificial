{
  "nbformat": 4,
  "nbformat_minor": 0,
  "metadata": {
    "colab": {
      "provenance": []
    },
    "kernelspec": {
      "name": "python3",
      "display_name": "Python 3"
    },
    "language_info": {
      "name": "python"
    }
  },
  "cells": [
    {
      "cell_type": "markdown",
      "source": [
        "##CARGAR LOS ARCHIVOS DESDE KAGGLE"
      ],
      "metadata": {
        "id": "_wVrJ-L67-5Y"
      }
    },
    {
      "cell_type": "markdown",
      "source": [
        "Instalar libreria para abrir Datasets"
      ],
      "metadata": {
        "id": "keF0QbqO8jED"
      }
    },
    {
      "cell_type": "code",
      "source": [
        "!pip install opendatasets\n",
        "import opendatasets as od"
      ],
      "metadata": {
        "colab": {
          "base_uri": "https://localhost:8080/"
        },
        "id": "fqEb1RxO7-Tw",
        "outputId": "40ddede1-532d-45ad-cb6e-363e1367a6b9"
      },
      "execution_count": 1,
      "outputs": [
        {
          "output_type": "stream",
          "name": "stdout",
          "text": [
            "Collecting opendatasets\n",
            "  Downloading opendatasets-0.1.22-py3-none-any.whl (15 kB)\n",
            "Requirement already satisfied: tqdm in /usr/local/lib/python3.10/dist-packages (from opendatasets) (4.66.1)\n",
            "Requirement already satisfied: kaggle in /usr/local/lib/python3.10/dist-packages (from opendatasets) (1.5.16)\n",
            "Requirement already satisfied: click in /usr/local/lib/python3.10/dist-packages (from opendatasets) (8.1.7)\n",
            "Requirement already satisfied: six>=1.10 in /usr/local/lib/python3.10/dist-packages (from kaggle->opendatasets) (1.16.0)\n",
            "Requirement already satisfied: certifi in /usr/local/lib/python3.10/dist-packages (from kaggle->opendatasets) (2023.7.22)\n",
            "Requirement already satisfied: python-dateutil in /usr/local/lib/python3.10/dist-packages (from kaggle->opendatasets) (2.8.2)\n",
            "Requirement already satisfied: requests in /usr/local/lib/python3.10/dist-packages (from kaggle->opendatasets) (2.31.0)\n",
            "Requirement already satisfied: python-slugify in /usr/local/lib/python3.10/dist-packages (from kaggle->opendatasets) (8.0.1)\n",
            "Requirement already satisfied: urllib3 in /usr/local/lib/python3.10/dist-packages (from kaggle->opendatasets) (2.0.7)\n",
            "Requirement already satisfied: bleach in /usr/local/lib/python3.10/dist-packages (from kaggle->opendatasets) (6.1.0)\n",
            "Requirement already satisfied: webencodings in /usr/local/lib/python3.10/dist-packages (from bleach->kaggle->opendatasets) (0.5.1)\n",
            "Requirement already satisfied: text-unidecode>=1.3 in /usr/local/lib/python3.10/dist-packages (from python-slugify->kaggle->opendatasets) (1.3)\n",
            "Requirement already satisfied: charset-normalizer<4,>=2 in /usr/local/lib/python3.10/dist-packages (from requests->kaggle->opendatasets) (3.3.2)\n",
            "Requirement already satisfied: idna<4,>=2.5 in /usr/local/lib/python3.10/dist-packages (from requests->kaggle->opendatasets) (3.4)\n",
            "Installing collected packages: opendatasets\n",
            "Successfully installed opendatasets-0.1.22\n"
          ]
        }
      ]
    },
    {
      "cell_type": "markdown",
      "source": [
        "Asignar a dataset_link el link de los datos que se desean importar"
      ],
      "metadata": {
        "id": "Q401oKW08mN7"
      }
    },
    {
      "cell_type": "code",
      "source": [
        "dataset_link=\"https://www.kaggle.com/competitions/tabular-playground-series-sep-2021\"\n",
        "od.download(dataset_link)"
      ],
      "metadata": {
        "colab": {
          "base_uri": "https://localhost:8080/"
        },
        "id": "8EOfvJfg8mgt",
        "outputId": "4403677c-320f-4fed-88ee-dea812d3d411"
      },
      "execution_count": 3,
      "outputs": [
        {
          "output_type": "stream",
          "name": "stdout",
          "text": [
            "Please provide your Kaggle credentials to download this dataset. Learn more: http://bit.ly/kaggle-creds\n",
            "Your Kaggle username: juansebas0212\n",
            "Your Kaggle Key: ··········\n",
            "Downloading tabular-playground-series-sep-2021.zip to ./tabular-playground-series-sep-2021\n"
          ]
        },
        {
          "output_type": "stream",
          "name": "stderr",
          "text": [
            "100%|██████████| 597M/597M [00:08<00:00, 72.4MB/s]\n"
          ]
        },
        {
          "output_type": "stream",
          "name": "stdout",
          "text": [
            "\n",
            "Extracting archive ./tabular-playground-series-sep-2021/tabular-playground-series-sep-2021.zip to ./tabular-playground-series-sep-2021\n"
          ]
        }
      ]
    },
    {
      "cell_type": "markdown",
      "source": [
        "Copiar ruta donde se cargaron los archivos"
      ],
      "metadata": {
        "id": "T-Sfu6g889jC"
      }
    },
    {
      "cell_type": "code",
      "source": [
        "import os\n",
        "os.chdir(\"tabular-playground-series-sep-2021\")\n",
        "os.listdir()"
      ],
      "metadata": {
        "colab": {
          "base_uri": "https://localhost:8080/"
        },
        "id": "mxqfXjtV8-E8",
        "outputId": "a66c6357-34fa-4b0e-eaee-c531b7459e59"
      },
      "execution_count": 5,
      "outputs": [
        {
          "output_type": "execute_result",
          "data": {
            "text/plain": [
              "['dataframeModificado.csv',\n",
              " '.ipynb_checkpoints',\n",
              " 'sample_solution.csv',\n",
              " 'dataframeLimpio.csv',\n",
              " 'train.csv',\n",
              " 'test.csv']"
            ]
          },
          "metadata": {},
          "execution_count": 5
        }
      ]
    },
    {
      "cell_type": "markdown",
      "source": [
        "##Cargar Dataset"
      ],
      "metadata": {
        "id": "1qLH4tie9_3j"
      }
    },
    {
      "cell_type": "code",
      "execution_count": 6,
      "metadata": {
        "colab": {
          "base_uri": "https://localhost:8080/"
        },
        "id": "MzCzQU2NOmhe",
        "outputId": "3209484c-687a-477a-bc04-aad84e3f7a0d"
      },
      "outputs": [
        {
          "output_type": "stream",
          "name": "stdout",
          "text": [
            "(957919, 120)\n"
          ]
        }
      ],
      "source": [
        "import pandas as pd\n",
        "import numpy as np\n",
        "df= pd.read_csv(\"train.csv\")\n",
        "print(df.shape)\n"
      ]
    },
    {
      "cell_type": "markdown",
      "source": [
        "#Miro si hay datos faltantes en las columnas"
      ],
      "metadata": {
        "id": "DvkfojZwjscD"
      }
    },
    {
      "cell_type": "code",
      "source": [
        "k=df.isna().sum()\n",
        "k[k!=0]"
      ],
      "metadata": {
        "colab": {
          "base_uri": "https://localhost:8080/"
        },
        "id": "RAS7G90fipPS",
        "outputId": "cc38f1a4-0c1b-4fe4-bf45-53b9455472bf"
      },
      "execution_count": 16,
      "outputs": [
        {
          "output_type": "execute_result",
          "data": {
            "text/plain": [
              "f1      15247\n",
              "f2      15190\n",
              "f3      15491\n",
              "f4      15560\n",
              "f5      15405\n",
              "        ...  \n",
              "f114    15438\n",
              "f115    15559\n",
              "f116    15589\n",
              "f117    15407\n",
              "f118    15212\n",
              "Length: 118, dtype: int64"
            ]
          },
          "metadata": {},
          "execution_count": 16
        }
      ]
    },
    {
      "cell_type": "markdown",
      "source": [
        "#Elimino datos de forma aleatoria"
      ],
      "metadata": {
        "id": "enB8DMdZkCk-"
      }
    },
    {
      "cell_type": "code",
      "source": [
        "dfAux=df.copy()\n",
        "columna_seleccionada=[\"f1\",\"f2\",\"f3\"]\n",
        "\n",
        "for col in columna_seleccionada:\n",
        "  datosEliminar=int(len(dfAux[col])*0.05)\n",
        "  num_filas=len(dfAux)\n",
        "\n",
        "  indices_aleatorios=np.random.choice(num_filas, size=datosEliminar)\n",
        "  for indice in indices_aleatorios:\n",
        "    dfAux.at[indice,col]=np.nan\n",
        "\n",
        "k=dfAux.isna().sum()\n",
        "k[k!=0]\n",
        "\n",
        "ccols=[i for i in dfAux.columns if not i in dfAux._get_numeric_data()]\n",
        "print(ccols)"
      ],
      "metadata": {
        "colab": {
          "base_uri": "https://localhost:8080/"
        },
        "id": "RiFlvcyfi1sh",
        "outputId": "808575f0-6096-4a5b-bd61-6e88c844932c"
      },
      "execution_count": 17,
      "outputs": [
        {
          "output_type": "stream",
          "name": "stdout",
          "text": [
            "[]\n"
          ]
        }
      ]
    },
    {
      "cell_type": "markdown",
      "source": [
        "#Función para categorizar"
      ],
      "metadata": {
        "id": "W5LSijTwkF7o"
      }
    },
    {
      "cell_type": "code",
      "source": [
        "def categorizarValor(valor,a,b):\n",
        "  if valor < a:\n",
        "    return \"Bajo\"\n",
        "\n",
        "  elif a<=valor<=b:\n",
        "    return \"Medio\"\n",
        "\n",
        "  else:\n",
        "    return \"Alto\""
      ],
      "metadata": {
        "id": "P2cVDTUwi8g_"
      },
      "execution_count": 18,
      "outputs": []
    },
    {
      "cell_type": "code",
      "source": [
        "dfAux2=dfAux.copy()\n",
        "columnasCategorizar=[\"f6\",\"f10\",\"f20\",\"f30\",\"f40\",\"f50\",\"f60\",\"f70\",\"f80\",\"f90\",\"f100\",\"f110\"]\n",
        "\n",
        "for col in columnasCategorizar:\n",
        "  max=dfAux2[col].max()\n",
        "  min=dfAux2[col].min()\n",
        "  intervalo=max-min\n",
        "  dfAux2[col]=dfAux2[col].apply(categorizarValor, args=(min+((intervalo)*0.33),(max-((intervalo)*0.33))))\n",
        "\n",
        "ccols=[i for i in dfAux2.columns if not i in dfAux2._get_numeric_data()]\n",
        "print(ccols)\n",
        "\n",
        "dfAux2[\"f80\"]\n",
        "\n",
        "\n"
      ],
      "metadata": {
        "colab": {
          "base_uri": "https://localhost:8080/"
        },
        "id": "SIaOhBGAiesi",
        "outputId": "32350867-74dd-4516-d2ee-6b0bcac0d27e"
      },
      "execution_count": 19,
      "outputs": [
        {
          "output_type": "stream",
          "name": "stdout",
          "text": [
            "['f6', 'f10', 'f20', 'f30', 'f40', 'f50', 'f60', 'f70', 'f80', 'f90', 'f100', 'f110']\n"
          ]
        },
        {
          "output_type": "execute_result",
          "data": {
            "text/plain": [
              "0          Bajo\n",
              "1          Bajo\n",
              "2          Bajo\n",
              "3          Bajo\n",
              "4          Bajo\n",
              "          ...  \n",
              "957914     Bajo\n",
              "957915    Medio\n",
              "957916    Medio\n",
              "957917     Bajo\n",
              "957918     Bajo\n",
              "Name: f80, Length: 957919, dtype: object"
            ]
          },
          "metadata": {},
          "execution_count": 19
        }
      ]
    },
    {
      "cell_type": "markdown",
      "source": [
        "#Exportar"
      ],
      "metadata": {
        "id": "XixdW9VbAn2-"
      }
    },
    {
      "cell_type": "code",
      "source": [
        "dfAux2.to_csv(\"dataframeModificado.csv\")"
      ],
      "metadata": {
        "id": "lR-Bcf1GAqP7"
      },
      "execution_count": 20,
      "outputs": []
    },
    {
      "cell_type": "markdown",
      "source": [
        "##Parte 2 -- DATA EXPLORATION\n"
      ],
      "metadata": {
        "id": "AGqfB52GkKvA"
      }
    },
    {
      "cell_type": "markdown",
      "source": [
        "#Librerías\n"
      ],
      "metadata": {
        "id": "S9wdKCKaAWIh"
      }
    },
    {
      "cell_type": "code",
      "source": [
        "import seaborn as sns\n",
        "import matplotlib.pyplot as plt"
      ],
      "metadata": {
        "id": "k5HSfCv9AVQR"
      },
      "execution_count": 21,
      "outputs": []
    },
    {
      "cell_type": "markdown",
      "source": [
        "#Cargar Dataset"
      ],
      "metadata": {
        "id": "HpJxNrrkA5I2"
      }
    },
    {
      "cell_type": "code",
      "source": [
        "dfMod= pd.read_csv(\"dataframeModificado.csv\")\n",
        "dfMod.head()"
      ],
      "metadata": {
        "colab": {
          "base_uri": "https://localhost:8080/",
          "height": 236
        },
        "id": "K6ZM6a2KA676",
        "outputId": "b385cd48-d1d6-4302-cf2c-47ad5a934ec2"
      },
      "execution_count": 22,
      "outputs": [
        {
          "output_type": "execute_result",
          "data": {
            "text/plain": [
              "   Unnamed: 0  id       f1        f2         f3        f4       f5     f6  \\\n",
              "0           0   0  0.10859  0.004314    -37.566  0.017364  0.28915   Bajo   \n",
              "1           1   1  0.10090       NaN  11822.000  0.276500  0.45970  Medio   \n",
              "2           2   2  0.17803 -0.006980    907.270  0.272140  0.45948  Medio   \n",
              "3           3   3      NaN  0.007259    780.100  0.025179  0.51947   Alto   \n",
              "4           4   4      NaN  0.502900   -109.150  0.297910  0.34490  Medio   \n",
              "\n",
              "        f7        f8  ...   f110    f111     f112      f113      f114    f115  \\\n",
              "0   135.12  168900.0  ...   Alto  1.7482  1.90960  -7.11570   4378.80  1.2096   \n",
              "1  1721.90  119810.0  ...  Medio  4.1684  0.34808   4.14200    913.23  1.2464   \n",
              "2  2298.00  360650.0  ...   Alto  1.2042  0.26290   8.13120  45119.00  1.1764   \n",
              "3   112.51  259490.0  ...  Medio  2.0694  0.79631 -16.33600   4952.40  1.1784   \n",
              "4  2538.90   65332.0  ...   Alto  1.5298  1.14640  -0.43124   3856.50  1.4830   \n",
              "\n",
              "           f116    f117     f118  claim  \n",
              "0  8.613400e+14   140.1  1.01770      1  \n",
              "1  7.575100e+15  1861.0  0.28359      0  \n",
              "2  3.218100e+14  3838.2  0.40690      1  \n",
              "3  4.533000e+12  4889.1  0.51486      1  \n",
              "4 -8.991300e+12     NaN  0.23049      1  \n",
              "\n",
              "[5 rows x 121 columns]"
            ],
            "text/html": [
              "\n",
              "  <div id=\"df-5673288e-979d-4ac1-8d76-6d1cd0cc8c9d\" class=\"colab-df-container\">\n",
              "    <div>\n",
              "<style scoped>\n",
              "    .dataframe tbody tr th:only-of-type {\n",
              "        vertical-align: middle;\n",
              "    }\n",
              "\n",
              "    .dataframe tbody tr th {\n",
              "        vertical-align: top;\n",
              "    }\n",
              "\n",
              "    .dataframe thead th {\n",
              "        text-align: right;\n",
              "    }\n",
              "</style>\n",
              "<table border=\"1\" class=\"dataframe\">\n",
              "  <thead>\n",
              "    <tr style=\"text-align: right;\">\n",
              "      <th></th>\n",
              "      <th>Unnamed: 0</th>\n",
              "      <th>id</th>\n",
              "      <th>f1</th>\n",
              "      <th>f2</th>\n",
              "      <th>f3</th>\n",
              "      <th>f4</th>\n",
              "      <th>f5</th>\n",
              "      <th>f6</th>\n",
              "      <th>f7</th>\n",
              "      <th>f8</th>\n",
              "      <th>...</th>\n",
              "      <th>f110</th>\n",
              "      <th>f111</th>\n",
              "      <th>f112</th>\n",
              "      <th>f113</th>\n",
              "      <th>f114</th>\n",
              "      <th>f115</th>\n",
              "      <th>f116</th>\n",
              "      <th>f117</th>\n",
              "      <th>f118</th>\n",
              "      <th>claim</th>\n",
              "    </tr>\n",
              "  </thead>\n",
              "  <tbody>\n",
              "    <tr>\n",
              "      <th>0</th>\n",
              "      <td>0</td>\n",
              "      <td>0</td>\n",
              "      <td>0.10859</td>\n",
              "      <td>0.004314</td>\n",
              "      <td>-37.566</td>\n",
              "      <td>0.017364</td>\n",
              "      <td>0.28915</td>\n",
              "      <td>Bajo</td>\n",
              "      <td>135.12</td>\n",
              "      <td>168900.0</td>\n",
              "      <td>...</td>\n",
              "      <td>Alto</td>\n",
              "      <td>1.7482</td>\n",
              "      <td>1.90960</td>\n",
              "      <td>-7.11570</td>\n",
              "      <td>4378.80</td>\n",
              "      <td>1.2096</td>\n",
              "      <td>8.613400e+14</td>\n",
              "      <td>140.1</td>\n",
              "      <td>1.01770</td>\n",
              "      <td>1</td>\n",
              "    </tr>\n",
              "    <tr>\n",
              "      <th>1</th>\n",
              "      <td>1</td>\n",
              "      <td>1</td>\n",
              "      <td>0.10090</td>\n",
              "      <td>NaN</td>\n",
              "      <td>11822.000</td>\n",
              "      <td>0.276500</td>\n",
              "      <td>0.45970</td>\n",
              "      <td>Medio</td>\n",
              "      <td>1721.90</td>\n",
              "      <td>119810.0</td>\n",
              "      <td>...</td>\n",
              "      <td>Medio</td>\n",
              "      <td>4.1684</td>\n",
              "      <td>0.34808</td>\n",
              "      <td>4.14200</td>\n",
              "      <td>913.23</td>\n",
              "      <td>1.2464</td>\n",
              "      <td>7.575100e+15</td>\n",
              "      <td>1861.0</td>\n",
              "      <td>0.28359</td>\n",
              "      <td>0</td>\n",
              "    </tr>\n",
              "    <tr>\n",
              "      <th>2</th>\n",
              "      <td>2</td>\n",
              "      <td>2</td>\n",
              "      <td>0.17803</td>\n",
              "      <td>-0.006980</td>\n",
              "      <td>907.270</td>\n",
              "      <td>0.272140</td>\n",
              "      <td>0.45948</td>\n",
              "      <td>Medio</td>\n",
              "      <td>2298.00</td>\n",
              "      <td>360650.0</td>\n",
              "      <td>...</td>\n",
              "      <td>Alto</td>\n",
              "      <td>1.2042</td>\n",
              "      <td>0.26290</td>\n",
              "      <td>8.13120</td>\n",
              "      <td>45119.00</td>\n",
              "      <td>1.1764</td>\n",
              "      <td>3.218100e+14</td>\n",
              "      <td>3838.2</td>\n",
              "      <td>0.40690</td>\n",
              "      <td>1</td>\n",
              "    </tr>\n",
              "    <tr>\n",
              "      <th>3</th>\n",
              "      <td>3</td>\n",
              "      <td>3</td>\n",
              "      <td>NaN</td>\n",
              "      <td>0.007259</td>\n",
              "      <td>780.100</td>\n",
              "      <td>0.025179</td>\n",
              "      <td>0.51947</td>\n",
              "      <td>Alto</td>\n",
              "      <td>112.51</td>\n",
              "      <td>259490.0</td>\n",
              "      <td>...</td>\n",
              "      <td>Medio</td>\n",
              "      <td>2.0694</td>\n",
              "      <td>0.79631</td>\n",
              "      <td>-16.33600</td>\n",
              "      <td>4952.40</td>\n",
              "      <td>1.1784</td>\n",
              "      <td>4.533000e+12</td>\n",
              "      <td>4889.1</td>\n",
              "      <td>0.51486</td>\n",
              "      <td>1</td>\n",
              "    </tr>\n",
              "    <tr>\n",
              "      <th>4</th>\n",
              "      <td>4</td>\n",
              "      <td>4</td>\n",
              "      <td>NaN</td>\n",
              "      <td>0.502900</td>\n",
              "      <td>-109.150</td>\n",
              "      <td>0.297910</td>\n",
              "      <td>0.34490</td>\n",
              "      <td>Medio</td>\n",
              "      <td>2538.90</td>\n",
              "      <td>65332.0</td>\n",
              "      <td>...</td>\n",
              "      <td>Alto</td>\n",
              "      <td>1.5298</td>\n",
              "      <td>1.14640</td>\n",
              "      <td>-0.43124</td>\n",
              "      <td>3856.50</td>\n",
              "      <td>1.4830</td>\n",
              "      <td>-8.991300e+12</td>\n",
              "      <td>NaN</td>\n",
              "      <td>0.23049</td>\n",
              "      <td>1</td>\n",
              "    </tr>\n",
              "  </tbody>\n",
              "</table>\n",
              "<p>5 rows × 121 columns</p>\n",
              "</div>\n",
              "    <div class=\"colab-df-buttons\">\n",
              "\n",
              "  <div class=\"colab-df-container\">\n",
              "    <button class=\"colab-df-convert\" onclick=\"convertToInteractive('df-5673288e-979d-4ac1-8d76-6d1cd0cc8c9d')\"\n",
              "            title=\"Convert this dataframe to an interactive table.\"\n",
              "            style=\"display:none;\">\n",
              "\n",
              "  <svg xmlns=\"http://www.w3.org/2000/svg\" height=\"24px\" viewBox=\"0 -960 960 960\">\n",
              "    <path d=\"M120-120v-720h720v720H120Zm60-500h600v-160H180v160Zm220 220h160v-160H400v160Zm0 220h160v-160H400v160ZM180-400h160v-160H180v160Zm440 0h160v-160H620v160ZM180-180h160v-160H180v160Zm440 0h160v-160H620v160Z\"/>\n",
              "  </svg>\n",
              "    </button>\n",
              "\n",
              "  <style>\n",
              "    .colab-df-container {\n",
              "      display:flex;\n",
              "      gap: 12px;\n",
              "    }\n",
              "\n",
              "    .colab-df-convert {\n",
              "      background-color: #E8F0FE;\n",
              "      border: none;\n",
              "      border-radius: 50%;\n",
              "      cursor: pointer;\n",
              "      display: none;\n",
              "      fill: #1967D2;\n",
              "      height: 32px;\n",
              "      padding: 0 0 0 0;\n",
              "      width: 32px;\n",
              "    }\n",
              "\n",
              "    .colab-df-convert:hover {\n",
              "      background-color: #E2EBFA;\n",
              "      box-shadow: 0px 1px 2px rgba(60, 64, 67, 0.3), 0px 1px 3px 1px rgba(60, 64, 67, 0.15);\n",
              "      fill: #174EA6;\n",
              "    }\n",
              "\n",
              "    .colab-df-buttons div {\n",
              "      margin-bottom: 4px;\n",
              "    }\n",
              "\n",
              "    [theme=dark] .colab-df-convert {\n",
              "      background-color: #3B4455;\n",
              "      fill: #D2E3FC;\n",
              "    }\n",
              "\n",
              "    [theme=dark] .colab-df-convert:hover {\n",
              "      background-color: #434B5C;\n",
              "      box-shadow: 0px 1px 3px 1px rgba(0, 0, 0, 0.15);\n",
              "      filter: drop-shadow(0px 1px 2px rgba(0, 0, 0, 0.3));\n",
              "      fill: #FFFFFF;\n",
              "    }\n",
              "  </style>\n",
              "\n",
              "    <script>\n",
              "      const buttonEl =\n",
              "        document.querySelector('#df-5673288e-979d-4ac1-8d76-6d1cd0cc8c9d button.colab-df-convert');\n",
              "      buttonEl.style.display =\n",
              "        google.colab.kernel.accessAllowed ? 'block' : 'none';\n",
              "\n",
              "      async function convertToInteractive(key) {\n",
              "        const element = document.querySelector('#df-5673288e-979d-4ac1-8d76-6d1cd0cc8c9d');\n",
              "        const dataTable =\n",
              "          await google.colab.kernel.invokeFunction('convertToInteractive',\n",
              "                                                    [key], {});\n",
              "        if (!dataTable) return;\n",
              "\n",
              "        const docLinkHtml = 'Like what you see? Visit the ' +\n",
              "          '<a target=\"_blank\" href=https://colab.research.google.com/notebooks/data_table.ipynb>data table notebook</a>'\n",
              "          + ' to learn more about interactive tables.';\n",
              "        element.innerHTML = '';\n",
              "        dataTable['output_type'] = 'display_data';\n",
              "        await google.colab.output.renderOutput(dataTable, element);\n",
              "        const docLink = document.createElement('div');\n",
              "        docLink.innerHTML = docLinkHtml;\n",
              "        element.appendChild(docLink);\n",
              "      }\n",
              "    </script>\n",
              "  </div>\n",
              "\n",
              "\n",
              "<div id=\"df-8a0b614e-7155-4052-8af2-37db2602f37b\">\n",
              "  <button class=\"colab-df-quickchart\" onclick=\"quickchart('df-8a0b614e-7155-4052-8af2-37db2602f37b')\"\n",
              "            title=\"Suggest charts\"\n",
              "            style=\"display:none;\">\n",
              "\n",
              "<svg xmlns=\"http://www.w3.org/2000/svg\" height=\"24px\"viewBox=\"0 0 24 24\"\n",
              "     width=\"24px\">\n",
              "    <g>\n",
              "        <path d=\"M19 3H5c-1.1 0-2 .9-2 2v14c0 1.1.9 2 2 2h14c1.1 0 2-.9 2-2V5c0-1.1-.9-2-2-2zM9 17H7v-7h2v7zm4 0h-2V7h2v10zm4 0h-2v-4h2v4z\"/>\n",
              "    </g>\n",
              "</svg>\n",
              "  </button>\n",
              "\n",
              "<style>\n",
              "  .colab-df-quickchart {\n",
              "      --bg-color: #E8F0FE;\n",
              "      --fill-color: #1967D2;\n",
              "      --hover-bg-color: #E2EBFA;\n",
              "      --hover-fill-color: #174EA6;\n",
              "      --disabled-fill-color: #AAA;\n",
              "      --disabled-bg-color: #DDD;\n",
              "  }\n",
              "\n",
              "  [theme=dark] .colab-df-quickchart {\n",
              "      --bg-color: #3B4455;\n",
              "      --fill-color: #D2E3FC;\n",
              "      --hover-bg-color: #434B5C;\n",
              "      --hover-fill-color: #FFFFFF;\n",
              "      --disabled-bg-color: #3B4455;\n",
              "      --disabled-fill-color: #666;\n",
              "  }\n",
              "\n",
              "  .colab-df-quickchart {\n",
              "    background-color: var(--bg-color);\n",
              "    border: none;\n",
              "    border-radius: 50%;\n",
              "    cursor: pointer;\n",
              "    display: none;\n",
              "    fill: var(--fill-color);\n",
              "    height: 32px;\n",
              "    padding: 0;\n",
              "    width: 32px;\n",
              "  }\n",
              "\n",
              "  .colab-df-quickchart:hover {\n",
              "    background-color: var(--hover-bg-color);\n",
              "    box-shadow: 0 1px 2px rgba(60, 64, 67, 0.3), 0 1px 3px 1px rgba(60, 64, 67, 0.15);\n",
              "    fill: var(--button-hover-fill-color);\n",
              "  }\n",
              "\n",
              "  .colab-df-quickchart-complete:disabled,\n",
              "  .colab-df-quickchart-complete:disabled:hover {\n",
              "    background-color: var(--disabled-bg-color);\n",
              "    fill: var(--disabled-fill-color);\n",
              "    box-shadow: none;\n",
              "  }\n",
              "\n",
              "  .colab-df-spinner {\n",
              "    border: 2px solid var(--fill-color);\n",
              "    border-color: transparent;\n",
              "    border-bottom-color: var(--fill-color);\n",
              "    animation:\n",
              "      spin 1s steps(1) infinite;\n",
              "  }\n",
              "\n",
              "  @keyframes spin {\n",
              "    0% {\n",
              "      border-color: transparent;\n",
              "      border-bottom-color: var(--fill-color);\n",
              "      border-left-color: var(--fill-color);\n",
              "    }\n",
              "    20% {\n",
              "      border-color: transparent;\n",
              "      border-left-color: var(--fill-color);\n",
              "      border-top-color: var(--fill-color);\n",
              "    }\n",
              "    30% {\n",
              "      border-color: transparent;\n",
              "      border-left-color: var(--fill-color);\n",
              "      border-top-color: var(--fill-color);\n",
              "      border-right-color: var(--fill-color);\n",
              "    }\n",
              "    40% {\n",
              "      border-color: transparent;\n",
              "      border-right-color: var(--fill-color);\n",
              "      border-top-color: var(--fill-color);\n",
              "    }\n",
              "    60% {\n",
              "      border-color: transparent;\n",
              "      border-right-color: var(--fill-color);\n",
              "    }\n",
              "    80% {\n",
              "      border-color: transparent;\n",
              "      border-right-color: var(--fill-color);\n",
              "      border-bottom-color: var(--fill-color);\n",
              "    }\n",
              "    90% {\n",
              "      border-color: transparent;\n",
              "      border-bottom-color: var(--fill-color);\n",
              "    }\n",
              "  }\n",
              "</style>\n",
              "\n",
              "  <script>\n",
              "    async function quickchart(key) {\n",
              "      const quickchartButtonEl =\n",
              "        document.querySelector('#' + key + ' button');\n",
              "      quickchartButtonEl.disabled = true;  // To prevent multiple clicks.\n",
              "      quickchartButtonEl.classList.add('colab-df-spinner');\n",
              "      try {\n",
              "        const charts = await google.colab.kernel.invokeFunction(\n",
              "            'suggestCharts', [key], {});\n",
              "      } catch (error) {\n",
              "        console.error('Error during call to suggestCharts:', error);\n",
              "      }\n",
              "      quickchartButtonEl.classList.remove('colab-df-spinner');\n",
              "      quickchartButtonEl.classList.add('colab-df-quickchart-complete');\n",
              "    }\n",
              "    (() => {\n",
              "      let quickchartButtonEl =\n",
              "        document.querySelector('#df-8a0b614e-7155-4052-8af2-37db2602f37b button');\n",
              "      quickchartButtonEl.style.display =\n",
              "        google.colab.kernel.accessAllowed ? 'block' : 'none';\n",
              "    })();\n",
              "  </script>\n",
              "</div>\n",
              "    </div>\n",
              "  </div>\n"
            ]
          },
          "metadata": {},
          "execution_count": 22
        }
      ]
    },
    {
      "cell_type": "markdown",
      "source": [
        "#Valores faltantes en columnas"
      ],
      "metadata": {
        "id": "boMsTDwWA_Kf"
      }
    },
    {
      "cell_type": "code",
      "source": [
        "#Valores faltantes en columnas\n",
        "k = dfMod.isna().sum()\n",
        "k[k!=0]"
      ],
      "metadata": {
        "colab": {
          "base_uri": "https://localhost:8080/"
        },
        "id": "b9vXrR4XBBjI",
        "outputId": "6ce11053-3bef-4c84-9f97-3889c0a9aef9"
      },
      "execution_count": 23,
      "outputs": [
        {
          "output_type": "execute_result",
          "data": {
            "text/plain": [
              "f1      61250\n",
              "f2      61059\n",
              "f3      61512\n",
              "f4      15560\n",
              "f5      15405\n",
              "        ...  \n",
              "f114    15438\n",
              "f115    15559\n",
              "f116    15589\n",
              "f117    15407\n",
              "f118    15212\n",
              "Length: 106, dtype: int64"
            ]
          },
          "metadata": {},
          "execution_count": 23
        }
      ]
    },
    {
      "cell_type": "markdown",
      "source": [
        "#Inspeccionar variable respuesta"
      ],
      "metadata": {
        "id": "_GBFNrV0BI-S"
      }
    },
    {
      "cell_type": "code",
      "source": [
        "#Inspeccionar variable respuesta\n",
        "sns.distplot(dfMod['claim']);"
      ],
      "metadata": {
        "colab": {
          "base_uri": "https://localhost:8080/",
          "height": 640
        },
        "id": "Gv78FMFTBLQp",
        "outputId": "cd9dcc64-2b46-429a-c22a-d47ff5d43d20"
      },
      "execution_count": 24,
      "outputs": [
        {
          "output_type": "stream",
          "name": "stderr",
          "text": [
            "<ipython-input-24-bb1eb6ed1a1e>:2: UserWarning: \n",
            "\n",
            "`distplot` is a deprecated function and will be removed in seaborn v0.14.0.\n",
            "\n",
            "Please adapt your code to use either `displot` (a figure-level function with\n",
            "similar flexibility) or `histplot` (an axes-level function for histograms).\n",
            "\n",
            "For a guide to updating your code to use the new functions, please see\n",
            "https://gist.github.com/mwaskom/de44147ed2974457ad6372750bbe5751\n",
            "\n",
            "  sns.distplot(dfMod['claim']);\n"
          ]
        },
        {
          "output_type": "display_data",
          "data": {
            "text/plain": [
              "<Figure size 640x480 with 1 Axes>"
            ],
            "image/png": "[encoded data removed]"
          },
          "metadata": {}
        }
      ]
    },
    {
      "cell_type": "markdown",
      "source": [
        "#Tipos de variables"
      ],
      "metadata": {
        "id": "4B2JJlMcBMb8"
      }
    },
    {
      "cell_type": "code",
      "source": [
        "#Tipos de variables\n",
        "for c in dfMod.columns:\n",
        "    print (\"%20s\"%c, dfMod[c].dtype)"
      ],
      "metadata": {
        "colab": {
          "base_uri": "https://localhost:8080/"
        },
        "id": "mAqrmdFiBPFL",
        "outputId": "1e708c76-267d-45d2-ec43-281ac9311c12"
      },
      "execution_count": 25,
      "outputs": [
        {
          "output_type": "stream",
          "name": "stdout",
          "text": [
            "          Unnamed: 0 int64\n",
            "                  id int64\n",
            "                  f1 float64\n",
            "                  f2 float64\n",
            "                  f3 float64\n",
            "                  f4 float64\n",
            "                  f5 float64\n",
            "                  f6 object\n",
            "                  f7 float64\n",
            "                  f8 float64\n",
            "                  f9 float64\n",
            "                 f10 object\n",
            "                 f11 float64\n",
            "                 f12 float64\n",
            "                 f13 float64\n",
            "                 f14 float64\n",
            "                 f15 float64\n",
            "                 f16 float64\n",
            "                 f17 float64\n",
            "                 f18 float64\n",
            "                 f19 float64\n",
            "                 f20 object\n",
            "                 f21 float64\n",
            "                 f22 float64\n",
            "                 f23 float64\n",
            "                 f24 float64\n",
            "                 f25 float64\n",
            "                 f26 float64\n",
            "                 f27 float64\n",
            "                 f28 float64\n",
            "                 f29 float64\n",
            "                 f30 object\n",
            "                 f31 float64\n",
            "                 f32 float64\n",
            "                 f33 float64\n",
            "                 f34 float64\n",
            "                 f35 float64\n",
            "                 f36 float64\n",
            "                 f37 float64\n",
            "                 f38 float64\n",
            "                 f39 float64\n",
            "                 f40 object\n",
            "                 f41 float64\n",
            "                 f42 float64\n",
            "                 f43 float64\n",
            "                 f44 float64\n",
            "                 f45 float64\n",
            "                 f46 float64\n",
            "                 f47 float64\n",
            "                 f48 float64\n",
            "                 f49 float64\n",
            "                 f50 object\n",
            "                 f51 float64\n",
            "                 f52 float64\n",
            "                 f53 float64\n",
            "                 f54 float64\n",
            "                 f55 float64\n",
            "                 f56 float64\n",
            "                 f57 float64\n",
            "                 f58 float64\n",
            "                 f59 float64\n",
            "                 f60 object\n",
            "                 f61 float64\n",
            "                 f62 float64\n",
            "                 f63 float64\n",
            "                 f64 float64\n",
            "                 f65 float64\n",
            "                 f66 float64\n",
            "                 f67 float64\n",
            "                 f68 float64\n",
            "                 f69 float64\n",
            "                 f70 object\n",
            "                 f71 float64\n",
            "                 f72 float64\n",
            "                 f73 float64\n",
            "                 f74 float64\n",
            "                 f75 float64\n",
            "                 f76 float64\n",
            "                 f77 float64\n",
            "                 f78 float64\n",
            "                 f79 float64\n",
            "                 f80 object\n",
            "                 f81 float64\n",
            "                 f82 float64\n",
            "                 f83 float64\n",
            "                 f84 float64\n",
            "                 f85 float64\n",
            "                 f86 float64\n",
            "                 f87 float64\n",
            "                 f88 float64\n",
            "                 f89 float64\n",
            "                 f90 object\n",
            "                 f91 float64\n",
            "                 f92 float64\n",
            "                 f93 float64\n",
            "                 f94 float64\n",
            "                 f95 float64\n",
            "                 f96 float64\n",
            "                 f97 float64\n",
            "                 f98 float64\n",
            "                 f99 float64\n",
            "                f100 object\n",
            "                f101 float64\n",
            "                f102 float64\n",
            "                f103 float64\n",
            "                f104 float64\n",
            "                f105 float64\n",
            "                f106 float64\n",
            "                f107 float64\n",
            "                f108 float64\n",
            "                f109 float64\n",
            "                f110 object\n",
            "                f111 float64\n",
            "                f112 float64\n",
            "                f113 float64\n",
            "                f114 float64\n",
            "                f115 float64\n",
            "                f116 float64\n",
            "                f117 float64\n",
            "                f118 float64\n",
            "               claim int64\n"
          ]
        }
      ]
    },
    {
      "cell_type": "markdown",
      "source": [
        "#Inspeccionar columnas numéricas"
      ],
      "metadata": {
        "id": "vYnAgSJ4BQfF"
      }
    },
    {
      "cell_type": "code",
      "source": [
        "#Inspeccionar columnas numéricas\n",
        "dfMod._get_numeric_data().describe().T"
      ],
      "metadata": {
        "colab": {
          "base_uri": "https://localhost:8080/",
          "height": 424
        },
        "id": "JexjuHuGBUMK",
        "outputId": "091810d3-51af-4499-f136-946df025ec06"
      },
      "execution_count": 26,
      "outputs": [
        {
          "output_type": "execute_result",
          "data": {
            "text/plain": [
              "               count          mean           std           min           25%  \\\n",
              "Unnamed: 0  957919.0  4.789590e+05  2.765275e+05  0.000000e+00  2.394795e+05   \n",
              "id          957919.0  4.789590e+05  2.765275e+05  0.000000e+00  2.394795e+05   \n",
              "f1          896669.0  9.018879e-02  4.356018e-02 -1.499100e-01  7.022600e-02   \n",
              "f2          896860.0  3.459300e-01  1.462741e-01 -1.904400e-02  2.829800e-01   \n",
              "f3          896407.0  4.067856e+03  6.415521e+03 -9.421700e+03  4.184750e+02   \n",
              "...              ...           ...           ...           ...           ...   \n",
              "f115        942360.0  1.208876e+00  1.149588e-01  9.052700e-01  1.146800e+00   \n",
              "f116        942330.0  4.276905e+16  6.732441e+16 -8.944400e+15  2.321100e+14   \n",
              "f117        942512.0  3.959205e+03  3.155992e+03 -4.152400e+02  1.306200e+03   \n",
              "f118        942707.0  5.592672e-01  4.084261e-01 -1.512400e-01  2.765600e-01   \n",
              "claim       957919.0  4.984920e-01  4.999980e-01  0.000000e+00  0.000000e+00   \n",
              "\n",
              "                     50%           75%           max  \n",
              "Unnamed: 0  4.789590e+05  7.184385e+05  9.579180e+05  \n",
              "id          4.789590e+05  7.184385e+05  9.579180e+05  \n",
              "f1          9.013000e-02  1.164700e-01  4.151700e-01  \n",
              "f2          3.891100e-01  4.584200e-01  5.189900e-01  \n",
              "f3          1.278500e+03  4.445600e+03  3.954400e+04  \n",
              "...                  ...           ...           ...  \n",
              "f115        1.177200e+00  1.242000e+00  1.886700e+00  \n",
              "f116        1.327500e+16  5.278700e+16  3.249900e+17  \n",
              "f117        3.228000e+03  6.137900e+03  1.315100e+04  \n",
              "f118        4.734400e-01  7.462100e-01  2.743600e+00  \n",
              "claim       0.000000e+00  1.000000e+00  1.000000e+00  \n",
              "\n",
              "[109 rows x 8 columns]"
            ],
            "text/html": [
              "\n",
              "  <div id=\"df-3299c605-c673-4940-a26b-f29dccf0ab11\" class=\"colab-df-container\">\n",
              "    <div>\n",
              "<style scoped>\n",
              "    .dataframe tbody tr th:only-of-type {\n",
              "        vertical-align: middle;\n",
              "    }\n",
              "\n",
              "    .dataframe tbody tr th {\n",
              "        vertical-align: top;\n",
              "    }\n",
              "\n",
              "    .dataframe thead th {\n",
              "        text-align: right;\n",
              "    }\n",
              "</style>\n",
              "<table border=\"1\" class=\"dataframe\">\n",
              "  <thead>\n",
              "    <tr style=\"text-align: right;\">\n",
              "      <th></th>\n",
              "      <th>count</th>\n",
              "      <th>mean</th>\n",
              "      <th>std</th>\n",
              "      <th>min</th>\n",
              "      <th>25%</th>\n",
              "      <th>50%</th>\n",
              "      <th>75%</th>\n",
              "      <th>max</th>\n",
              "    </tr>\n",
              "  </thead>\n",
              "  <tbody>\n",
              "    <tr>\n",
              "      <th>Unnamed: 0</th>\n",
              "      <td>957919.0</td>\n",
              "      <td>4.789590e+05</td>\n",
              "      <td>2.765275e+05</td>\n",
              "      <td>0.000000e+00</td>\n",
              "      <td>2.394795e+05</td>\n",
              "      <td>4.789590e+05</td>\n",
              "      <td>7.184385e+05</td>\n",
              "      <td>9.579180e+05</td>\n",
              "    </tr>\n",
              "    <tr>\n",
              "      <th>id</th>\n",
              "      <td>957919.0</td>\n",
              "      <td>4.789590e+05</td>\n",
              "      <td>2.765275e+05</td>\n",
              "      <td>0.000000e+00</td>\n",
              "      <td>2.394795e+05</td>\n",
              "      <td>4.789590e+05</td>\n",
              "      <td>7.184385e+05</td>\n",
              "      <td>9.579180e+05</td>\n",
              "    </tr>\n",
              "    <tr>\n",
              "      <th>f1</th>\n",
              "      <td>896669.0</td>\n",
              "      <td>9.018879e-02</td>\n",
              "      <td>4.356018e-02</td>\n",
              "      <td>-1.499100e-01</td>\n",
              "      <td>7.022600e-02</td>\n",
              "      <td>9.013000e-02</td>\n",
              "      <td>1.164700e-01</td>\n",
              "      <td>4.151700e-01</td>\n",
              "    </tr>\n",
              "    <tr>\n",
              "      <th>f2</th>\n",
              "      <td>896860.0</td>\n",
              "      <td>3.459300e-01</td>\n",
              "      <td>1.462741e-01</td>\n",
              "      <td>-1.904400e-02</td>\n",
              "      <td>2.829800e-01</td>\n",
              "      <td>3.891100e-01</td>\n",
              "      <td>4.584200e-01</td>\n",
              "      <td>5.189900e-01</td>\n",
              "    </tr>\n",
              "    <tr>\n",
              "      <th>f3</th>\n",
              "      <td>896407.0</td>\n",
              "      <td>4.067856e+03</td>\n",
              "      <td>6.415521e+03</td>\n",
              "      <td>-9.421700e+03</td>\n",
              "      <td>4.184750e+02</td>\n",
              "      <td>1.278500e+03</td>\n",
              "      <td>4.445600e+03</td>\n",
              "      <td>3.954400e+04</td>\n",
              "    </tr>\n",
              "    <tr>\n",
              "      <th>...</th>\n",
              "      <td>...</td>\n",
              "      <td>...</td>\n",
              "      <td>...</td>\n",
              "      <td>...</td>\n",
              "      <td>...</td>\n",
              "      <td>...</td>\n",
              "      <td>...</td>\n",
              "      <td>...</td>\n",
              "    </tr>\n",
              "    <tr>\n",
              "      <th>f115</th>\n",
              "      <td>942360.0</td>\n",
              "      <td>1.208876e+00</td>\n",
              "      <td>1.149588e-01</td>\n",
              "      <td>9.052700e-01</td>\n",
              "      <td>1.146800e+00</td>\n",
              "      <td>1.177200e+00</td>\n",
              "      <td>1.242000e+00</td>\n",
              "      <td>1.886700e+00</td>\n",
              "    </tr>\n",
              "    <tr>\n",
              "      <th>f116</th>\n",
              "      <td>942330.0</td>\n",
              "      <td>4.276905e+16</td>\n",
              "      <td>6.732441e+16</td>\n",
              "      <td>-8.944400e+15</td>\n",
              "      <td>2.321100e+14</td>\n",
              "      <td>1.327500e+16</td>\n",
              "      <td>5.278700e+16</td>\n",
              "      <td>3.249900e+17</td>\n",
              "    </tr>\n",
              "    <tr>\n",
              "      <th>f117</th>\n",
              "      <td>942512.0</td>\n",
              "      <td>3.959205e+03</td>\n",
              "      <td>3.155992e+03</td>\n",
              "      <td>-4.152400e+02</td>\n",
              "      <td>1.306200e+03</td>\n",
              "      <td>3.228000e+03</td>\n",
              "      <td>6.137900e+03</td>\n",
              "      <td>1.315100e+04</td>\n",
              "    </tr>\n",
              "    <tr>\n",
              "      <th>f118</th>\n",
              "      <td>942707.0</td>\n",
              "      <td>5.592672e-01</td>\n",
              "      <td>4.084261e-01</td>\n",
              "      <td>-1.512400e-01</td>\n",
              "      <td>2.765600e-01</td>\n",
              "      <td>4.734400e-01</td>\n",
              "      <td>7.462100e-01</td>\n",
              "      <td>2.743600e+00</td>\n",
              "    </tr>\n",
              "    <tr>\n",
              "      <th>claim</th>\n",
              "      <td>957919.0</td>\n",
              "      <td>4.984920e-01</td>\n",
              "      <td>4.999980e-01</td>\n",
              "      <td>0.000000e+00</td>\n",
              "      <td>0.000000e+00</td>\n",
              "      <td>0.000000e+00</td>\n",
              "      <td>1.000000e+00</td>\n",
              "      <td>1.000000e+00</td>\n",
              "    </tr>\n",
              "  </tbody>\n",
              "</table>\n",
              "<p>109 rows × 8 columns</p>\n",
              "</div>\n",
              "    <div class=\"colab-df-buttons\">\n",
              "\n",
              "  <div class=\"colab-df-container\">\n",
              "    <button class=\"colab-df-convert\" onclick=\"convertToInteractive('df-3299c605-c673-4940-a26b-f29dccf0ab11')\"\n",
              "            title=\"Convert this dataframe to an interactive table.\"\n",
              "            style=\"display:none;\">\n",
              "\n",
              "  <svg xmlns=\"http://www.w3.org/2000/svg\" height=\"24px\" viewBox=\"0 -960 960 960\">\n",
              "    <path d=\"M120-120v-720h720v720H120Zm60-500h600v-160H180v160Zm220 220h160v-160H400v160Zm0 220h160v-160H400v160ZM180-400h160v-160H180v160Zm440 0h160v-160H620v160ZM180-180h160v-160H180v160Zm440 0h160v-160H620v160Z\"/>\n",
              "  </svg>\n",
              "    </button>\n",
              "\n",
              "  <style>\n",
              "    .colab-df-container {\n",
              "      display:flex;\n",
              "      gap: 12px;\n",
              "    }\n",
              "\n",
              "    .colab-df-convert {\n",
              "      background-color: #E8F0FE;\n",
              "      border: none;\n",
              "      border-radius: 50%;\n",
              "      cursor: pointer;\n",
              "      display: none;\n",
              "      fill: #1967D2;\n",
              "      height: 32px;\n",
              "      padding: 0 0 0 0;\n",
              "      width: 32px;\n",
              "    }\n",
              "\n",
              "    .colab-df-convert:hover {\n",
              "      background-color: #E2EBFA;\n",
              "      box-shadow: 0px 1px 2px rgba(60, 64, 67, 0.3), 0px 1px 3px 1px rgba(60, 64, 67, 0.15);\n",
              "      fill: #174EA6;\n",
              "    }\n",
              "\n",
              "    .colab-df-buttons div {\n",
              "      margin-bottom: 4px;\n",
              "    }\n",
              "\n",
              "    [theme=dark] .colab-df-convert {\n",
              "      background-color: #3B4455;\n",
              "      fill: #D2E3FC;\n",
              "    }\n",
              "\n",
              "    [theme=dark] .colab-df-convert:hover {\n",
              "      background-color: #434B5C;\n",
              "      box-shadow: 0px 1px 3px 1px rgba(0, 0, 0, 0.15);\n",
              "      filter: drop-shadow(0px 1px 2px rgba(0, 0, 0, 0.3));\n",
              "      fill: #FFFFFF;\n",
              "    }\n",
              "  </style>\n",
              "\n",
              "    <script>\n",
              "      const buttonEl =\n",
              "        document.querySelector('#df-3299c605-c673-4940-a26b-f29dccf0ab11 button.colab-df-convert');\n",
              "      buttonEl.style.display =\n",
              "        google.colab.kernel.accessAllowed ? 'block' : 'none';\n",
              "\n",
              "      async function convertToInteractive(key) {\n",
              "        const element = document.querySelector('#df-3299c605-c673-4940-a26b-f29dccf0ab11');\n",
              "        const dataTable =\n",
              "          await google.colab.kernel.invokeFunction('convertToInteractive',\n",
              "                                                    [key], {});\n",
              "        if (!dataTable) return;\n",
              "\n",
              "        const docLinkHtml = 'Like what you see? Visit the ' +\n",
              "          '<a target=\"_blank\" href=https://colab.research.google.com/notebooks/data_table.ipynb>data table notebook</a>'\n",
              "          + ' to learn more about interactive tables.';\n",
              "        element.innerHTML = '';\n",
              "        dataTable['output_type'] = 'display_data';\n",
              "        await google.colab.output.renderOutput(dataTable, element);\n",
              "        const docLink = document.createElement('div');\n",
              "        docLink.innerHTML = docLinkHtml;\n",
              "        element.appendChild(docLink);\n",
              "      }\n",
              "    </script>\n",
              "  </div>\n",
              "\n",
              "\n",
              "<div id=\"df-116634bb-7060-4c29-bbea-dbe5b8edf2eb\">\n",
              "  <button class=\"colab-df-quickchart\" onclick=\"quickchart('df-116634bb-7060-4c29-bbea-dbe5b8edf2eb')\"\n",
              "            title=\"Suggest charts\"\n",
              "            style=\"display:none;\">\n",
              "\n",
              "<svg xmlns=\"http://www.w3.org/2000/svg\" height=\"24px\"viewBox=\"0 0 24 24\"\n",
              "     width=\"24px\">\n",
              "    <g>\n",
              "        <path d=\"M19 3H5c-1.1 0-2 .9-2 2v14c0 1.1.9 2 2 2h14c1.1 0 2-.9 2-2V5c0-1.1-.9-2-2-2zM9 17H7v-7h2v7zm4 0h-2V7h2v10zm4 0h-2v-4h2v4z\"/>\n",
              "    </g>\n",
              "</svg>\n",
              "  </button>\n",
              "\n",
              "<style>\n",
              "  .colab-df-quickchart {\n",
              "      --bg-color: #E8F0FE;\n",
              "      --fill-color: #1967D2;\n",
              "      --hover-bg-color: #E2EBFA;\n",
              "      --hover-fill-color: #174EA6;\n",
              "      --disabled-fill-color: #AAA;\n",
              "      --disabled-bg-color: #DDD;\n",
              "  }\n",
              "\n",
              "  [theme=dark] .colab-df-quickchart {\n",
              "      --bg-color: #3B4455;\n",
              "      --fill-color: #D2E3FC;\n",
              "      --hover-bg-color: #434B5C;\n",
              "      --hover-fill-color: #FFFFFF;\n",
              "      --disabled-bg-color: #3B4455;\n",
              "      --disabled-fill-color: #666;\n",
              "  }\n",
              "\n",
              "  .colab-df-quickchart {\n",
              "    background-color: var(--bg-color);\n",
              "    border: none;\n",
              "    border-radius: 50%;\n",
              "    cursor: pointer;\n",
              "    display: none;\n",
              "    fill: var(--fill-color);\n",
              "    height: 32px;\n",
              "    padding: 0;\n",
              "    width: 32px;\n",
              "  }\n",
              "\n",
              "  .colab-df-quickchart:hover {\n",
              "    background-color: var(--hover-bg-color);\n",
              "    box-shadow: 0 1px 2px rgba(60, 64, 67, 0.3), 0 1px 3px 1px rgba(60, 64, 67, 0.15);\n",
              "    fill: var(--button-hover-fill-color);\n",
              "  }\n",
              "\n",
              "  .colab-df-quickchart-complete:disabled,\n",
              "  .colab-df-quickchart-complete:disabled:hover {\n",
              "    background-color: var(--disabled-bg-color);\n",
              "    fill: var(--disabled-fill-color);\n",
              "    box-shadow: none;\n",
              "  }\n",
              "\n",
              "  .colab-df-spinner {\n",
              "    border: 2px solid var(--fill-color);\n",
              "    border-color: transparent;\n",
              "    border-bottom-color: var(--fill-color);\n",
              "    animation:\n",
              "      spin 1s steps(1) infinite;\n",
              "  }\n",
              "\n",
              "  @keyframes spin {\n",
              "    0% {\n",
              "      border-color: transparent;\n",
              "      border-bottom-color: var(--fill-color);\n",
              "      border-left-color: var(--fill-color);\n",
              "    }\n",
              "    20% {\n",
              "      border-color: transparent;\n",
              "      border-left-color: var(--fill-color);\n",
              "      border-top-color: var(--fill-color);\n",
              "    }\n",
              "    30% {\n",
              "      border-color: transparent;\n",
              "      border-left-color: var(--fill-color);\n",
              "      border-top-color: var(--fill-color);\n",
              "      border-right-color: var(--fill-color);\n",
              "    }\n",
              "    40% {\n",
              "      border-color: transparent;\n",
              "      border-right-color: var(--fill-color);\n",
              "      border-top-color: var(--fill-color);\n",
              "    }\n",
              "    60% {\n",
              "      border-color: transparent;\n",
              "      border-right-color: var(--fill-color);\n",
              "    }\n",
              "    80% {\n",
              "      border-color: transparent;\n",
              "      border-right-color: var(--fill-color);\n",
              "      border-bottom-color: var(--fill-color);\n",
              "    }\n",
              "    90% {\n",
              "      border-color: transparent;\n",
              "      border-bottom-color: var(--fill-color);\n",
              "    }\n",
              "  }\n",
              "</style>\n",
              "\n",
              "  <script>\n",
              "    async function quickchart(key) {\n",
              "      const quickchartButtonEl =\n",
              "        document.querySelector('#' + key + ' button');\n",
              "      quickchartButtonEl.disabled = true;  // To prevent multiple clicks.\n",
              "      quickchartButtonEl.classList.add('colab-df-spinner');\n",
              "      try {\n",
              "        const charts = await google.colab.kernel.invokeFunction(\n",
              "            'suggestCharts', [key], {});\n",
              "      } catch (error) {\n",
              "        console.error('Error during call to suggestCharts:', error);\n",
              "      }\n",
              "      quickchartButtonEl.classList.remove('colab-df-spinner');\n",
              "      quickchartButtonEl.classList.add('colab-df-quickchart-complete');\n",
              "    }\n",
              "    (() => {\n",
              "      let quickchartButtonEl =\n",
              "        document.querySelector('#df-116634bb-7060-4c29-bbea-dbe5b8edf2eb button');\n",
              "      quickchartButtonEl.style.display =\n",
              "        google.colab.kernel.accessAllowed ? 'block' : 'none';\n",
              "    })();\n",
              "  </script>\n",
              "</div>\n",
              "    </div>\n",
              "  </div>\n"
            ]
          },
          "metadata": {},
          "execution_count": 26
        }
      ]
    },
    {
      "cell_type": "markdown",
      "source": [
        "#Pair plot"
      ],
      "metadata": {
        "id": "r1z73zvNBWlM"
      }
    },
    {
      "cell_type": "code",
      "source": [
        "#Pair plot\n",
        "cols = ['f1', 'f10', 'f20', 'f30', 'f90', 'f100', 'claim']\n",
        "sns.set()\n",
        "sns.pairplot(dfMod[cols])"
      ],
      "metadata": {
        "colab": {
          "base_uri": "https://localhost:8080/",
          "height": 527
        },
        "id": "Ehnwty7NBXtN",
        "outputId": "7e2aef06-9142-4c99-dd95-c313d36ababf"
      },
      "execution_count": 27,
      "outputs": [
        {
          "output_type": "execute_result",
          "data": {
            "text/plain": [
              "<seaborn.axisgrid.PairGrid at 0x7fcc49f7a410>"
            ]
          },
          "metadata": {},
          "execution_count": 27
        },
        {
          "output_type": "display_data",
          "data": {
            "text/plain": [
              "<Figure size 500x500 with 6 Axes>"
            ],
            "image/png": "[encoded data removed]"
          },
          "metadata": {}
        }
      ]
    },
    {
      "cell_type": "markdown",
      "source": [
        "#Correlaciones"
      ],
      "metadata": {
        "id": "lgaTVxWzBZSx"
      }
    },
    {
      "cell_type": "code",
      "source": [
        "#Correlaciones\n",
        "corrmat = dfMod.corr()\n",
        "f, ax = plt.subplots(figsize=(12, 9))\n",
        "sns.heatmap(corrmat, vmax=.8, square=True);"
      ],
      "metadata": {
        "colab": {
          "base_uri": "https://localhost:8080/",
          "height": 897
        },
        "id": "5Tb06BtFBcdl",
        "outputId": "f4444942-7eea-47f3-80fe-19d1bfc5d584"
      },
      "execution_count": 28,
      "outputs": [
        {
          "output_type": "stream",
          "name": "stderr",
          "text": [
            "<ipython-input-28-4cc83fc627a0>:2: FutureWarning: The default value of numeric_only in DataFrame.corr is deprecated. In a future version, it will default to False. Select only valid columns or specify the value of numeric_only to silence this warning.\n",
            "  corrmat = dfMod.corr()\n"
          ]
        },
        {
          "output_type": "display_data",
          "data": {
            "text/plain": [
              "<Figure size 1200x900 with 2 Axes>"
            ],
            "image/png": "[encoded data removed]"
          },
          "metadata": {}
        }
      ]
    },
    {
      "cell_type": "markdown",
      "source": [
        "#Inspeccionar variables categóricas\n"
      ],
      "metadata": {
        "id": "Wf5kK6X5BfGv"
      }
    },
    {
      "cell_type": "code",
      "source": [
        "#Inspeccionar variables categóricas\n",
        "ccols = [i for i in dfMod.columns if not i in dfMod._get_numeric_data()]\n",
        "print (ccols)\n",
        "\n",
        "for c in ccols:\n",
        "    print (\"%10s\"%c, np.unique(dfMod[c].dropna()))\n",
        "\n",
        "c=\"f6\"\n",
        "dfMod[c].value_counts()"
      ],
      "metadata": {
        "colab": {
          "base_uri": "https://localhost:8080/"
        },
        "id": "hszpd-TGBhkG",
        "outputId": "124e562e-2535-4d35-f5fe-a1a94e51c626"
      },
      "execution_count": 29,
      "outputs": [
        {
          "output_type": "stream",
          "name": "stdout",
          "text": [
            "['f6', 'f10', 'f20', 'f30', 'f40', 'f50', 'f60', 'f70', 'f80', 'f90', 'f100', 'f110']\n",
            "        f6 ['Alto' 'Bajo' 'Medio']\n",
            "       f10 ['Alto' 'Bajo' 'Medio']\n",
            "       f20 ['Alto' 'Bajo' 'Medio']\n",
            "       f30 ['Alto' 'Bajo' 'Medio']\n",
            "       f40 ['Alto' 'Bajo']\n",
            "       f50 ['Alto' 'Bajo' 'Medio']\n",
            "       f60 ['Alto' 'Bajo' 'Medio']\n",
            "       f70 ['Alto' 'Bajo']\n",
            "       f80 ['Alto' 'Bajo' 'Medio']\n",
            "       f90 ['Alto' 'Bajo' 'Medio']\n",
            "      f100 ['Alto' 'Bajo' 'Medio']\n",
            "      f110 ['Alto' 'Bajo' 'Medio']\n"
          ]
        },
        {
          "output_type": "execute_result",
          "data": {
            "text/plain": [
              "Medio    864692\n",
              "Alto      69136\n",
              "Bajo      24091\n",
              "Name: f6, dtype: int64"
            ]
          },
          "metadata": {},
          "execution_count": 29
        }
      ]
    },
    {
      "cell_type": "markdown",
      "source": [
        "#Parte 3 - Data Cleaning"
      ],
      "metadata": {
        "id": "6B0HP_yYDs6-"
      }
    },
    {
      "cell_type": "markdown",
      "source": [
        "#Cargar Dataset"
      ],
      "metadata": {
        "id": "XkdffjjWD1Ux"
      }
    },
    {
      "cell_type": "code",
      "source": [
        "dfClean= pd.read_csv(\"dataframeModificado.csv\")\n",
        "print (dfClean.shape)"
      ],
      "metadata": {
        "colab": {
          "base_uri": "https://localhost:8080/"
        },
        "id": "amoHFvA7D2Xf",
        "outputId": "42285aee-4d4c-4eda-8650-0c6690a4e3f1"
      },
      "execution_count": 30,
      "outputs": [
        {
          "output_type": "stream",
          "name": "stdout",
          "text": [
            "(957919, 121)\n"
          ]
        }
      ]
    },
    {
      "cell_type": "markdown",
      "source": [
        "#Reparar valores faltantes en columnas"
      ],
      "metadata": {
        "id": "Om3u26AuD9Ox"
      }
    },
    {
      "cell_type": "code",
      "source": [
        "#Reparar valores faltantes en columnas\n",
        "k = dfClean.isna().sum()\n",
        "k[k!=0]\n",
        "\n",
        "ccols = [i for i in dfClean.columns if not i in dfClean._get_numeric_data()]\n",
        "print (ccols)\n",
        "\n",
        "for i in dfClean.columns:\n",
        "    if i!=\"id\" and i!=\"claim\" and i not in ccols:\n",
        "        media=dfClean[i].mean()\n",
        "        dfClean[i]=dfClean[i].fillna(media)\n",
        "\n",
        "\n",
        "k = dfClean.isna().sum()\n",
        "k[k!=0]"
      ],
      "metadata": {
        "colab": {
          "base_uri": "https://localhost:8080/"
        },
        "id": "5L70F9wrD7nr",
        "outputId": "7abebc30-db1b-44e4-a118-6018eae8a668"
      },
      "execution_count": 31,
      "outputs": [
        {
          "output_type": "stream",
          "name": "stdout",
          "text": [
            "['f6', 'f10', 'f20', 'f30', 'f40', 'f50', 'f60', 'f70', 'f80', 'f90', 'f100', 'f110']\n"
          ]
        },
        {
          "output_type": "execute_result",
          "data": {
            "text/plain": [
              "Series([], dtype: int64)"
            ]
          },
          "metadata": {},
          "execution_count": 31
        }
      ]
    },
    {
      "cell_type": "markdown",
      "source": [
        "#Crear encoding para variables categóricas"
      ],
      "metadata": {
        "id": "H0GnMxdlEASk"
      }
    },
    {
      "cell_type": "code",
      "source": [
        "#Crear encoding para variables categóricas\n",
        "\n",
        "ccols = [i for i in dfClean.columns if not i in dfClean._get_numeric_data()]\n",
        "print (ccols)\n",
        "\n",
        "for i in dfClean.columns:\n",
        "    if i not in dfClean._get_numeric_data():\n",
        "        dummies=pd.get_dummies(dfClean[i], prefix=i, prefix_sep=\"_\", dtype=int)\n",
        "        dfClean=pd.concat([dfClean,dummies],axis=1)\n",
        "        dfClean = dfClean.drop(i, axis=1)\n",
        "\n",
        "\n",
        "columnaRespuesta=dfClean[\"claim\"]\n",
        "dfClean=dfClean.drop(\"claim\",axis=1)\n",
        "dfClean[\"claim\"]=columnaRespuesta\n",
        "\n",
        "dfClean=dfClean.drop(\"Unnamed: 0\",axis=1)\n",
        "dfClean=dfClean.drop(\"id\",axis=1)\n",
        "print(dfClean.columns)"
      ],
      "metadata": {
        "colab": {
          "base_uri": "https://localhost:8080/"
        },
        "id": "wRdU2XWJECev",
        "outputId": "412a5843-7a18-49be-bd6c-141184b89555"
      },
      "execution_count": 32,
      "outputs": [
        {
          "output_type": "stream",
          "name": "stdout",
          "text": [
            "['f6', 'f10', 'f20', 'f30', 'f40', 'f50', 'f60', 'f70', 'f80', 'f90', 'f100', 'f110']\n"
          ]
        },
        {
          "output_type": "stream",
          "name": "stderr",
          "text": [
            "<ipython-input-32-6a66e1bace31>:15: PerformanceWarning: DataFrame is highly fragmented.  This is usually the result of calling `frame.insert` many times, which has poor performance.  Consider joining all columns at once using pd.concat(axis=1) instead. To get a de-fragmented frame, use `newframe = frame.copy()`\n",
            "  dfClean[\"claim\"]=columnaRespuesta\n"
          ]
        },
        {
          "output_type": "stream",
          "name": "stdout",
          "text": [
            "Index(['f1', 'f2', 'f3', 'f4', 'f5', 'f7', 'f8', 'f9', 'f11', 'f12',\n",
            "       ...\n",
            "       'f90_Alto', 'f90_Bajo', 'f90_Medio', 'f100_Alto', 'f100_Bajo',\n",
            "       'f100_Medio', 'f110_Alto', 'f110_Bajo', 'f110_Medio', 'claim'],\n",
            "      dtype='object', length=141)\n"
          ]
        }
      ]
    },
    {
      "cell_type": "markdown",
      "source": [
        "#Exportar"
      ],
      "metadata": {
        "id": "pEhABfAMEF1O"
      }
    },
    {
      "cell_type": "code",
      "source": [
        "dfClean.to_csv(\"dataframeLimpio.csv\",index=False)"
      ],
      "metadata": {
        "id": "hkd0bbddEGhD"
      },
      "execution_count": 33,
      "outputs": []
    },
    {
      "cell_type": "markdown",
      "source": [
        "#Parte 4- Algoritmo predictivo"
      ],
      "metadata": {
        "id": "SeNh2nYXFSfy"
      }
    },
    {
      "cell_type": "markdown",
      "source": [
        "#Librerias"
      ],
      "metadata": {
        "id": "8OeL5Xi-FZPC"
      }
    },
    {
      "cell_type": "code",
      "source": [
        "from sklearn.model_selection import RandomizedSearchCV, train_test_split\n",
        "from sklearn.linear_model import LogisticRegression\n",
        "from sklearn.tree import DecisionTreeClassifier\n",
        "from sklearn.ensemble import RandomForestClassifier\n",
        "from sklearn.metrics import accuracy_score, classification_report, confusion_matrix\n",
        "from scipy.stats import randint\n",
        "import matplotlib.pyplot as plt\n",
        "from sklearn.svm import SVC\n",
        "from sklearn.model_selection import learning_curve\n",
        "from sklearn.preprocessing import StandardScaler"
      ],
      "metadata": {
        "id": "FoCNKF7dFay7"
      },
      "execution_count": 7,
      "outputs": []
    },
    {
      "cell_type": "markdown",
      "source": [
        "#Cargar Dataset"
      ],
      "metadata": {
        "id": "l_HazK-3Fb90"
      }
    },
    {
      "cell_type": "code",
      "source": [
        "df=pd.read_csv(\"dataframeLimpio.csv\")\n",
        "print(df.head)"
      ],
      "metadata": {
        "colab": {
          "base_uri": "https://localhost:8080/"
        },
        "id": "xj13Y0uqFfMv",
        "outputId": "ebba003b-3df8-4020-b20b-a23ae94413fb"
      },
      "execution_count": 8,
      "outputs": [
        {
          "output_type": "stream",
          "name": "stdout",
          "text": [
            "<bound method NDFrame.head of               f1        f2         f3        f4        f5       f7        f8  \\\n",
            "0       0.108590  0.004314    -37.566  0.017364  0.289150   135.12  168900.0   \n",
            "1       0.100900  0.345930  11822.000  0.276500  0.459700  1721.90  119810.0   \n",
            "2       0.178030 -0.006980    907.270  0.272140  0.459480  2298.00  360650.0   \n",
            "3       0.090189  0.007259    780.100  0.025179  0.519470   112.51  259490.0   \n",
            "4       0.090189  0.502900   -109.150  0.297910  0.344900  2538.90   65332.0   \n",
            "...          ...       ...        ...       ...       ...      ...       ...   \n",
            "957914  0.098979  0.202530   2192.100  0.348010  0.276430  2214.20   26246.0   \n",
            "957915  0.134930  0.413600   1050.100  0.000521 -0.001246  3519.90  862290.0   \n",
            "957916  0.104660  0.473510   2415.400  0.252230  0.196970  3044.90   13832.0   \n",
            "957917  0.090189  0.320870    657.860  0.237290  0.260250   173.20   20811.0   \n",
            "957918  0.088832  0.472230   4309.400  0.017016  0.376880   458.20   42183.0   \n",
            "\n",
            "                  f9       f11           f12  ...  f90_Alto  f90_Bajo  \\\n",
            "0       3.992400e+14  0.598810  1.423200e+09  ...         0         1   \n",
            "1       3.874100e+15  1.209300  3.334100e+09  ...         0         0   \n",
            "2       1.224500e+13  0.381640  1.230300e+09  ...         1         0   \n",
            "3       7.781400e+13  1.109600  1.223100e+09  ...         0         0   \n",
            "4       1.907200e+15  1.053100  2.634100e+09  ...         0         1   \n",
            "...              ...       ...           ...  ...       ...       ...   \n",
            "957914  1.061600e+15  1.423100 -6.272100e+06  ...         0         0   \n",
            "957915  7.321400e+13 -0.993300  2.810600e+08  ...         0         0   \n",
            "957916  2.693300e+12 -1.288300  6.196500e+09  ...         0         1   \n",
            "957917  9.711000e+14  1.242500  5.616000e+09  ...         0         1   \n",
            "957918  1.805500e+13  0.729518  4.854400e+09  ...         0         1   \n",
            "\n",
            "        f90_Medio  f100_Alto  f100_Bajo  f100_Medio  f110_Alto  f110_Bajo  \\\n",
            "0               0          1          0           0          1          0   \n",
            "1               1          0          1           0          0          0   \n",
            "2               0          0          0           1          1          0   \n",
            "3               1          0          1           0          0          0   \n",
            "4               0          0          0           1          1          0   \n",
            "...           ...        ...        ...         ...        ...        ...   \n",
            "957914          1          0          1           0          0          0   \n",
            "957915          1          0          1           0          0          0   \n",
            "957916          0          0          1           0          1          0   \n",
            "957917          0          0          1           0          1          0   \n",
            "957918          0          0          1           0          1          0   \n",
            "\n",
            "        f110_Medio  claim  \n",
            "0                0      1  \n",
            "1                1      0  \n",
            "2                0      1  \n",
            "3                1      1  \n",
            "4                0      1  \n",
            "...            ...    ...  \n",
            "957914           1      0  \n",
            "957915           1      1  \n",
            "957916           0      0  \n",
            "957917           0      1  \n",
            "957918           0      0  \n",
            "\n",
            "[957919 rows x 141 columns]>\n"
          ]
        }
      ]
    },
    {
      "cell_type": "markdown",
      "source": [
        "#Función para las curvas de aprendizaje"
      ],
      "metadata": {
        "id": "xBRNN836FkVz"
      }
    },
    {
      "cell_type": "code",
      "source": [
        "def plot_learning_curve(estimator, title, X, y, ylim=None, cv=None,\n",
        "                        n_jobs=-1, train_sizes=np.linspace(.1, 1.0, 5)):\n",
        "    plt.figure()\n",
        "    plt.title(title)\n",
        "    if ylim is not None:\n",
        "        plt.ylim(*ylim)\n",
        "    plt.xlabel(\"Training examples\")\n",
        "    plt.ylabel(\"Score\")\n",
        "    train_sizes, train_scores, test_scores = learning_curve(\n",
        "        estimator, X, y, cv=cv, n_jobs=n_jobs, train_sizes=train_sizes)\n",
        "    train_scores_mean = np.mean(train_scores, axis=1)\n",
        "    train_scores_std = np.std(train_scores, axis=1)\n",
        "    test_scores_mean = np.mean(test_scores, axis=1)\n",
        "    test_scores_std = np.std(test_scores, axis=1)\n",
        "    plt.grid()\n",
        "\n",
        "    plt.fill_between(train_sizes, train_scores_mean - train_scores_std,\n",
        "                     train_scores_mean + train_scores_std, alpha=0.1,\n",
        "                     color=\"r\")\n",
        "    plt.fill_between(train_sizes, test_scores_mean - test_scores_std,\n",
        "                     test_scores_mean + test_scores_std, alpha=0.1, color=\"g\")\n",
        "    plt.plot(train_sizes, train_scores_mean, 'o-', color=\"r\",\n",
        "             label=\"Training score\")\n",
        "    plt.plot(train_sizes, test_scores_mean, 'o-', color=\"g\",\n",
        "             label=\"Cross-validation score\")\n",
        "\n",
        "    plt.legend(loc=\"best\")\n",
        "    return plt\n"
      ],
      "metadata": {
        "id": "zfRC13pHFlRT"
      },
      "execution_count": 9,
      "outputs": []
    },
    {
      "cell_type": "markdown",
      "source": [
        "#Separar variables para Train y Test"
      ],
      "metadata": {
        "id": "i7m0jykAFp5h"
      }
    },
    {
      "cell_type": "code",
      "source": [
        "X = df.drop('claim', axis=1)  # Features\n",
        "y = df['claim']  # Target variable\n",
        "\n",
        "# Dividir el conjunto de datos en entrenamiento y prueba\n",
        "X_train, X_test, y_train, y_test = train_test_split(X, y, test_size=09.3)"
      ],
      "metadata": {
        "id": "Bs1PMeBGFsAT"
      },
      "execution_count": 10,
      "outputs": []
    },
    {
      "cell_type": "markdown",
      "source": [
        "#Modelo de regresión logística\n"
      ],
      "metadata": {
        "id": "c1vomhPiFtzw"
      }
    },
    {
      "cell_type": "code",
      "source": [
        "#Inicializar el modelo de regresión logística\n",
        "model = LogisticRegression()\n",
        "\n",
        "param_grid = {\n",
        "    'fit_intercept': [True, False],\n",
        "    'C': [0.01,  1],  # Regularization parameter\n",
        "    'penalty': ['l1', 'l2'],  # Regularization type\n",
        "    'solver': ['liblinear'],  # Solver algorithm\n",
        "}\n",
        "\n",
        "#Inicializar GridSearchCV para encontrar la mejor combinación de hiperparámetros\n",
        "grid_search = RandomizedSearchCV(estimator=model, param_distributions=param_grid, n_iter=5, cv=3, scoring='accuracy', random_state=42)\n",
        "grid_search.fit(X_train, y_train)\n",
        "\n",
        "# Obtener los mejores hiperparámetros\n",
        "best_params = grid_search.best_params_\n",
        "print(\"Mejores hiperparámetros:\", best_params)\n",
        "\n",
        "# Entrenar el modelo con los mejores hiperparámetros\n",
        "best_lr_model = LogisticRegression(**best_params)\n",
        "best_lr_model.fit(X_train, y_train)\n",
        "\n",
        "# Realizar predicciones en el conjunto de prueba\n",
        "y_pred = best_lr_model.predict(X_test)\n",
        "print(\"Accuracy:\", accuracy_score(y_test, y_pred))\n",
        "\n",
        "plot_learning_curve(best_lr_model, \"Learning Curve (Logistic Regression)\", X_train, y_train, cv=3)\n",
        "plt.show()"
      ],
      "metadata": {
        "colab": {
          "base_uri": "https://localhost:8080/",
          "height": 489
        },
        "id": "UeYMzH1AFw4q",
        "outputId": "340645d5-5400-4b79-c546-02bfb6930a7d"
      },
      "execution_count": 11,
      "outputs": [
        {
          "output_type": "stream",
          "name": "stdout",
          "text": [
            "Accuracy: 0.5050143366182284\n"
          ]
        },
        {
          "output_type": "display_data",
          "data": {
            "text/plain": [
              "<Figure size 640x480 with 1 Axes>"
            ],
            "image/png": "[encoded data removed]"
          },
          "metadata": {}
        }
      ]
    },
    {
      "cell_type": "markdown",
      "source": [
        "#Modelo Decision Tree Classifier"
      ],
      "metadata": {
        "id": "jPJpIaHYFy-l"
      }
    },
    {
      "cell_type": "code",
      "source": [
        "dt_model = DecisionTreeClassifier()\n",
        "\n",
        "param_grid = {\n",
        "    'criterion': ['gini', 'entropy'],\n",
        "    'max_depth': [None, 10, 20, 30],\n",
        "    'min_samples_split': randint(2, 11),\n",
        "    'min_samples_leaf': randint(1, 5)\n",
        "}\n",
        "\n",
        "#Inicializar GridSearchCV para encontrar la mejor combinación de hiperparámetros\n",
        "grid_search = RandomizedSearchCV(estimator=dt_model, param_distributions=param_grid, n_iter=7, cv=3, scoring='accuracy', random_state=42)\n",
        "grid_search.fit(X_train, y_train)\n",
        "\n",
        "# Obtener los mejores hiperparámetros\n",
        "best_params = grid_search.best_params_\n",
        "print(\"Mejores hiperparámetros:\", best_params)\n",
        "\n",
        "# Entrenar el modelo con los mejores hiperparámetros\n",
        "best_dt_model = DecisionTreeClassifier(**best_params)\n",
        "best_dt_model.fit(X_train, y_train)\n",
        "\n",
        "# Realizar predicciones en el conjunto de prueba\n",
        "y_pred2 = best_dt_model.predict(X_test)\n",
        "\n",
        "print(\"Accuracy:\", accuracy_score(y_test, y_pred2))\n",
        "\n",
        "plot_learning_curve(best_dt_model, \"Learning Curve (Decision Tree)\", X_train, y_train, cv=3)\n",
        "plt.show()"
      ],
      "metadata": {
        "colab": {
          "base_uri": "https://localhost:8080/",
          "height": 489
        },
        "id": "YriNVjaxF1IP",
        "outputId": "644123a2-e3a3-43a2-fb1a-978c8e7713e0"
      },
      "execution_count": 12,
      "outputs": [
        {
          "output_type": "stream",
          "name": "stdout",
          "text": [
            "Accuracy: 0.5240660319581315\n"
          ]
        },
        {
          "output_type": "display_data",
          "data": {
            "text/plain": [
              "<Figure size 640x480 with 1 Axes>"
            ],
            "image/png": "[encoded data removed]"
          },
          "metadata": {}
        }
      ]
    },
    {
      "cell_type": "markdown",
      "source": [
        "#Parte 5 - Algoritmos no supervisados"
      ],
      "metadata": {
        "id": "xJ8Ih0P0JATG"
      }
    },
    {
      "cell_type": "markdown",
      "source": [
        "#Librerias"
      ],
      "metadata": {
        "id": "VVj0Mq_tJHAA"
      }
    },
    {
      "cell_type": "code",
      "source": [
        "from sklearn.neural_network import MLPClassifier\n",
        "import pandas as pd\n",
        "from sklearn.cluster import KMeans\n",
        "from sklearn.preprocessing import StandardScaler\n",
        "from sklearn.model_selection import RandomizedSearchCV, train_test_split\n",
        "from sklearn.metrics import accuracy_score, classification_report, confusion_matrix\n",
        "from scipy.stats import randint\n",
        "import seaborn as sns\n",
        "import matplotlib.pyplot as plt\n",
        "from sklearn.model_selection import learning_curve\n",
        "import numpy as np"
      ],
      "metadata": {
        "id": "PbbGeU-1JIDe"
      },
      "execution_count": 13,
      "outputs": []
    },
    {
      "cell_type": "markdown",
      "source": [
        "#MLP Classifier"
      ],
      "metadata": {
        "id": "cmtEzNemJJBn"
      }
    },
    {
      "cell_type": "code",
      "source": [
        "mlp_model = MLPClassifier()\n",
        "\n",
        "# Definir el espacio de búsqueda para hiperparámetros\n",
        "\n",
        "param_dist = {\n",
        "    'hidden_layer_sizes': [(50,),(100,),(50,50),(100,50,25)],\n",
        "    'activation': ['relu', 'tanh', 'logistic'],\n",
        "    'alpha': [0.0001, 0.001, 0.01, 0.1],\n",
        "    'learning_rate': ['constant', 'invscaling', 'adaptive'],\n",
        "    'max_iter': randint(50, 200)\n",
        "}\n",
        "\n",
        "# Inicializar RandomizedSearchCV\n",
        "random_search = RandomizedSearchCV(estimator=mlp_model, param_distributions=param_dist, n_iter=10, cv=3, scoring='accuracy', random_state=42)\n",
        "\n",
        "# Realizar la búsqueda aleatoria en el espacio definido\n",
        "random_search.fit(X_train, y_train)\n",
        "\n",
        "# Obtener los mejores hiperparámetros\n",
        "best_params = random_search.best_params_\n",
        "print(\"Mejores hiperparámetros:\", best_params)\n",
        "\n",
        "# Entrenar el modelo con los mejores hiperparámetros\n",
        "best_mlp_model = MLPClassifier(**best_params)\n",
        "best_mlp_model.fit(X_train, y_train)\n",
        "\n",
        "# Realizar predicciones en el conjunto de prueba\n",
        "y_pred = best_mlp_model.predict(X_test)\n",
        "\n",
        "# Evaluar el rendimiento del modelo\n",
        "accuracy = accuracy_score(y_test, y_pred)\n",
        "print(\"Accuracy:\", accuracy)\n",
        "\n",
        "plot_learning_curve(best_mlp_model, \"Learning Curve (MLP Classifier)\", X_train, y_train, cv=3)\n",
        "plt.show()"
      ],
      "metadata": {
        "colab": {
          "base_uri": "https://localhost:8080/",
          "height": 489
        },
        "id": "YsHyYcypJQKz",
        "outputId": "4572b882-77e6-47c9-8381-6a961b011743"
      },
      "execution_count": 14,
      "outputs": [
        {
          "output_type": "stream",
          "name": "stdout",
          "text": [
            "Accuracy: 0.5025541450921441\n"
          ]
        },
        {
          "output_type": "display_data",
          "data": {
            "text/plain": [
              "<Figure size 640x480 with 1 Axes>"
            ],
            "image/png": "[encoded data removed]"
          },
          "metadata": {}
        }
      ]
    },
    {
      "cell_type": "markdown",
      "source": [
        "#KMeans"
      ],
      "metadata": {
        "id": "mTcus02cRvY1"
      }
    },
    {
      "cell_type": "code",
      "source": [
        "# Preprocesamiento: Escalar los datos\n",
        "scaler = StandardScaler()\n",
        "X_scaled = scaler.fit_transform(X)\n",
        "\n",
        "# Aplicar K-Means con el número de clusters deseado\n",
        "n_clusters = 1 # Puedes ajustar este valor según tus necesidades\n",
        "kmeans = KMeans(n_clusters=n_clusters, random_state=42)\n",
        "labels = kmeans.fit_predict(X_scaled)\n",
        "\n",
        "# Evaluar el rendimiento del clustering usando el accuracy\n",
        "# Aquí, necesitarías comparar los clusters asignados por K-Means con las etiquetas reales\n",
        "# Sin embargo, en clustering no hay una \"verdad\" conocida, por lo que el accuracy puede no ser la mejor métrica\n",
        "# Puedes explorar otras métricas como la pureza o el índice de Rand ajustado.\n",
        "# Aquí, solo se proporciona como una métrica simple para ilustrar el concepto.\n",
        "accuracy = accuracy_score(y, labels)\n",
        "print(\"Accuracy del clustering:\", accuracy)"
      ],
      "metadata": {
        "colab": {
          "base_uri": "https://localhost:8080/"
        },
        "id": "sSBD4uuNRwkC",
        "outputId": "576ad641-398a-43c6-d722-52449abf24bd"
      },
      "execution_count": 15,
      "outputs": [
        {
          "output_type": "stream",
          "name": "stderr",
          "text": [
            "/usr/local/lib/python3.10/dist-packages/sklearn/cluster/_kmeans.py:870: FutureWarning: The default value of `n_init` will change from 10 to 'auto' in 1.4. Set the value of `n_init` explicitly to suppress the warning\n",
            "  warnings.warn(\n"
          ]
        },
        {
          "output_type": "stream",
          "name": "stdout",
          "text": [
            "Accuracy del clustering: 0.5015079563094583\n"
          ]
        }
      ]
    }
  ]
}