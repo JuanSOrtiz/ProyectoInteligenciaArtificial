{
  "nbformat": 4,
  "nbformat_minor": 0,
  "metadata": {
    "colab": {
      "provenance": []
    },
    "kernelspec": {
      "name": "python3",
      "display_name": "Python 3"
    },
    "language_info": {
      "name": "python"
    }
  },
  "cells": [
    {
      "cell_type": "markdown",
      "source": [
        "#Cargo el DF"
      ],
      "metadata": {
        "id": "OOLq5D2vWzZG"
      }
    },
    {
      "cell_type": "code",
      "execution_count": 31,
      "metadata": {
        "colab": {
          "base_uri": "https://localhost:8080/"
        },
        "id": "tg4Kc8eRWeMQ",
        "outputId": "fb4a74af-2794-4971-f311-888242a3145a"
      },
      "outputs": [
        {
          "output_type": "stream",
          "name": "stdout",
          "text": [
            "(957919, 120)\n"
          ]
        }
      ],
      "source": [
        "import pandas as pd\n",
        "import numpy as np\n",
        "import seaborn as sns\n",
        "df=pd.read_csv(\"train.csv\")\n",
        "print (df.shape)"
      ]
    },
    {
      "cell_type": "markdown",
      "source": [
        "#Reviso si hay datos faltantes"
      ],
      "metadata": {
        "id": "AA4kTy5FW3A-"
      }
    },
    {
      "cell_type": "code",
      "source": [
        "k = df.isna().sum()\n",
        "k[k!=0]\n",
        "\n",
        "#SI HAY DATOS FALTANTES PERO NO SON SUFICIENTES PARA CUMPLIR CON EL 5%"
      ],
      "metadata": {
        "colab": {
          "base_uri": "https://localhost:8080/"
        },
        "id": "SW4myxblW6gV",
        "outputId": "32608b99-9430-446c-dbf2-3a5f9963c63c"
      },
      "execution_count": 22,
      "outputs": [
        {
          "output_type": "execute_result",
          "data": {
            "text/plain": [
              "f1      15247\n",
              "f2      15190\n",
              "f3      15491\n",
              "f4      15560\n",
              "f5      15405\n",
              "        ...  \n",
              "f114    15438\n",
              "f115    15559\n",
              "f116    15589\n",
              "f117    15407\n",
              "f118    15212\n",
              "Length: 118, dtype: int64"
            ]
          },
          "metadata": {},
          "execution_count": 22
        }
      ]
    },
    {
      "cell_type": "markdown",
      "source": [
        "#ELIMINO EL 5% DE LOS DATOS DE LAS COLUMNAS F1, F2 Y F3"
      ],
      "metadata": {
        "id": "4RfpU5liYiKI"
      }
    },
    {
      "cell_type": "code",
      "source": [
        "dfAux=df.copy()\n",
        "columna_seleccionada = [\"f1\",\"f2\",\"f3\"]\n",
        "for col in columna_seleccionada:\n",
        "  datosEliminar=int(len(dfAux[col])*0.05)\n",
        "  num_filas = len(dfAux)\n",
        "  # Genero una lista de índices aleatorios a lo largo de la longitud de la columna\n",
        "  indices_aleatorios = np.random.choice(num_filas, size=datosEliminar)\n",
        "  for indice in indices_aleatorios:\n",
        "      dfAux.at[indice, col] = np.nan\n",
        "\n",
        "\n",
        "\n"
      ],
      "metadata": {
        "id": "y16QQ6WJX5Sp"
      },
      "execution_count": 23,
      "outputs": []
    },
    {
      "cell_type": "markdown",
      "source": [
        "#Verifico que ya hay mas datos faltantes"
      ],
      "metadata": {
        "id": "DIKo89ULaogU"
      }
    },
    {
      "cell_type": "code",
      "source": [
        "k = dfAux.isna().sum()\n",
        "k[k!=0]"
      ],
      "metadata": {
        "colab": {
          "base_uri": "https://localhost:8080/"
        },
        "id": "23gstmtKZ4EN",
        "outputId": "29b6a206-5a30-478f-c1ce-fbb10ef16d4f"
      },
      "execution_count": 24,
      "outputs": [
        {
          "output_type": "execute_result",
          "data": {
            "text/plain": [
              "f1      61176\n",
              "f2      61159\n",
              "f3      61368\n",
              "f4      15560\n",
              "f5      15405\n",
              "        ...  \n",
              "f114    15438\n",
              "f115    15559\n",
              "f116    15589\n",
              "f117    15407\n",
              "f118    15212\n",
              "Length: 118, dtype: int64"
            ]
          },
          "metadata": {},
          "execution_count": 24
        }
      ]
    },
    {
      "cell_type": "markdown",
      "source": [
        "#Miro si hay columnas categóricas"
      ],
      "metadata": {
        "id": "9zJa1kUsbCK7"
      }
    },
    {
      "cell_type": "code",
      "source": [
        "ccols = [i for i in dfAux.columns if not i in dfAux._get_numeric_data()]\n",
        "print (ccols)"
      ],
      "metadata": {
        "colab": {
          "base_uri": "https://localhost:8080/"
        },
        "id": "jR0Kfw1-bSgE",
        "outputId": "6323450d-4577-419f-ffaa-555bb7c38503"
      },
      "execution_count": 25,
      "outputs": [
        {
          "output_type": "stream",
          "name": "stdout",
          "text": [
            "[]\n"
          ]
        }
      ]
    },
    {
      "cell_type": "markdown",
      "source": [
        "#Creo función para categorizar valores"
      ],
      "metadata": {
        "id": "bQS3Vwf7fofn"
      }
    },
    {
      "cell_type": "code",
      "source": [
        "def categorizarValor(valor,a,b):\n",
        "  if valor<a:\n",
        "    return \"1\"\n",
        "  elif a<=valor<=b:\n",
        "    return \"2\"\n",
        "  else:\n",
        "    return \"3\""
      ],
      "metadata": {
        "id": "1-c3wafrbaTg"
      },
      "execution_count": 26,
      "outputs": []
    },
    {
      "cell_type": "markdown",
      "source": [
        "#Aplico la función a 12 columnas"
      ],
      "metadata": {
        "id": "SgEr_NMFfwR4"
      }
    },
    {
      "cell_type": "code",
      "source": [
        "dfaux2=dfAux.copy()\n",
        "columnasCategorizar=[\"f6\",\"f10\",\"f20\",\"f30\",\"f41\",\"f51\",\"f65\",\"f72\",\"f81\",\"f90\",\"f101\",\"f110\"]\n",
        "\n",
        "for columna in columnasCategorizar:\n",
        "  minimo=dfaux2[columna].min()\n",
        "  maximo=dfaux2[columna].max()\n",
        "  dfaux2[columna]=dfaux2[columna].apply(categorizarValor, args=(minimo+((maximo-minimo)*0.33),maximo-((maximo-minimo)*0.33)))\n",
        "\n",
        "\n"
      ],
      "metadata": {
        "id": "YeU6ER0WcQbO"
      },
      "execution_count": 27,
      "outputs": []
    },
    {
      "cell_type": "code",
      "source": [
        "ccols = [i for i in dfaux2.columns if not i in dfaux2._get_numeric_data()]\n",
        "print (ccols)"
      ],
      "metadata": {
        "colab": {
          "base_uri": "https://localhost:8080/"
        },
        "id": "CfwOqSjVf1Be",
        "outputId": "b1c77484-29ee-4d3d-89e3-56726d164084"
      },
      "execution_count": 30,
      "outputs": [
        {
          "output_type": "stream",
          "name": "stdout",
          "text": [
            "['f6', 'f10', 'f20', 'f30', 'f41', 'f51', 'f65', 'f72', 'f81', 'f90', 'f101', 'f110']\n"
          ]
        }
      ]
    },
    {
      "cell_type": "markdown",
      "source": [
        "#Exporto el csv para poder trabajarlo en el proyecto"
      ],
      "metadata": {
        "id": "fkNdfpL9j61Y"
      }
    },
    {
      "cell_type": "code",
      "source": [
        "dfaux2.to_csv(\"dataframeModificado.csv\")"
      ],
      "metadata": {
        "id": "H0XgSsr3kAjX"
      },
      "execution_count": 29,
      "outputs": []
    }
  ]
}